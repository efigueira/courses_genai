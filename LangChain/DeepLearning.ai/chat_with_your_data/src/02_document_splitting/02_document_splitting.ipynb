{
 "cells": [
  {
   "cell_type": "markdown",
   "id": "bafb515b",
   "metadata": {},
   "source": [
    "# Document Splitting"
   ]
  },
  {
   "cell_type": "code",
   "execution_count": null,
   "id": "1f9ad2a1-2c8e-471e-8174-338cf2e3e92d",
   "metadata": {
    "ExecuteTime": {
     "end_time": "2025-02-25T10:55:08.814475Z",
     "start_time": "2025-02-25T10:55:08.492636Z"
    },
    "tags": []
   },
   "outputs": [],
   "source": [
    "import os\n",
    "import openai\n",
    "import sys\n",
    "sys.path.append('../..')\n",
    "\n",
    "from dotenv import load_dotenv, find_dotenv\n",
    "_ = load_dotenv(find_dotenv('../.env')) # read local .env file\n",
    "\n",
    "openai.api_key  = os.environ['OPENAI_API_KEY']"
   ]
  },
  {
   "cell_type": "code",
   "execution_count": null,
   "id": "06ea702c",
   "metadata": {
    "ExecuteTime": {
     "end_time": "2025-02-25T10:55:08.912014Z",
     "start_time": "2025-02-25T10:55:08.824920Z"
    },
    "tags": []
   },
   "outputs": [],
   "source": [
    "from langchain.text_splitter import RecursiveCharacterTextSplitter, CharacterTextSplitter"
   ]
  },
  {
   "cell_type": "code",
   "execution_count": null,
   "id": "2d587fb0",
   "metadata": {
    "ExecuteTime": {
     "end_time": "2025-02-25T10:55:08.996200Z",
     "start_time": "2025-02-25T10:55:08.993561Z"
    },
    "tags": []
   },
   "outputs": [],
   "source": [
    "chunk_size =26\n",
    "chunk_overlap = 4"
   ]
  },
  {
   "cell_type": "code",
   "execution_count": null,
   "id": "2723bf02",
   "metadata": {
    "ExecuteTime": {
     "end_time": "2025-02-25T10:55:09.046795Z",
     "start_time": "2025-02-25T10:55:09.043977Z"
    },
    "tags": []
   },
   "outputs": [],
   "source": [
    "r_splitter = RecursiveCharacterTextSplitter(\n",
    "    chunk_size=chunk_size,\n",
    "    chunk_overlap=chunk_overlap\n",
    ")\n",
    "c_splitter = CharacterTextSplitter(\n",
    "    chunk_size=chunk_size,\n",
    "    chunk_overlap=chunk_overlap\n",
    ")"
   ]
  },
  {
   "cell_type": "markdown",
   "id": "a61167fc",
   "metadata": {},
   "source": [
    "Why doesn't this split the string below?"
   ]
  },
  {
   "cell_type": "code",
   "execution_count": null,
   "id": "dd21401b",
   "metadata": {
    "ExecuteTime": {
     "end_time": "2025-02-25T10:55:09.096810Z",
     "start_time": "2025-02-25T10:55:09.094656Z"
    },
    "tags": []
   },
   "outputs": [],
   "source": [
    "text1 = 'abcdefghijklmnopqrstuvwxyz'"
   ]
  },
  {
   "cell_type": "code",
   "execution_count": null,
   "id": "fa92a860",
   "metadata": {
    "ExecuteTime": {
     "end_time": "2025-02-25T10:55:09.148292Z",
     "start_time": "2025-02-25T10:55:09.142671Z"
    },
    "tags": []
   },
   "outputs": [],
   "source": [
    "r_splitter.split_text(text1)"
   ]
  },
  {
   "cell_type": "code",
   "execution_count": null,
   "id": "8b5da0f9",
   "metadata": {
    "ExecuteTime": {
     "end_time": "2025-02-25T10:55:09.198303Z",
     "start_time": "2025-02-25T10:55:09.194797Z"
    },
    "tags": []
   },
   "outputs": [],
   "source": [
    "text2 = 'abcdefghijklmnopqrstuvwxyzabcdefg'"
   ]
  },
  {
   "cell_type": "code",
   "execution_count": null,
   "id": "4ea0d456",
   "metadata": {
    "ExecuteTime": {
     "end_time": "2025-02-25T10:55:09.246381Z",
     "start_time": "2025-02-25T10:55:09.242488Z"
    },
    "tags": []
   },
   "outputs": [],
   "source": [
    "r_splitter.split_text(text2)"
   ]
  },
  {
   "cell_type": "markdown",
   "id": "87200022",
   "metadata": {},
   "source": [
    "Ok, this splits the string but we have an overlap specified as 5, but it looks like 3? (try an even number)"
   ]
  },
  {
   "cell_type": "code",
   "execution_count": null,
   "id": "dce39d64",
   "metadata": {
    "ExecuteTime": {
     "end_time": "2025-02-25T10:55:09.301739Z",
     "start_time": "2025-02-25T10:55:09.298214Z"
    },
    "tags": []
   },
   "outputs": [],
   "source": [
    "text3 = \"a b c d e f g h i j k l m n o p q r s t u v w x y z\""
   ]
  },
  {
   "cell_type": "code",
   "execution_count": null,
   "id": "d96c0ab9",
   "metadata": {
    "ExecuteTime": {
     "end_time": "2025-02-25T10:55:09.351769Z",
     "start_time": "2025-02-25T10:55:09.346804Z"
    },
    "tags": []
   },
   "outputs": [],
   "source": [
    "r_splitter.split_text(text3)"
   ]
  },
  {
   "cell_type": "code",
   "execution_count": null,
   "id": "0dbea42c",
   "metadata": {
    "ExecuteTime": {
     "end_time": "2025-02-25T10:55:09.405097Z",
     "start_time": "2025-02-25T10:55:09.400550Z"
    },
    "tags": []
   },
   "outputs": [],
   "source": [
    "c_splitter.split_text(text3)"
   ]
  },
  {
   "cell_type": "code",
   "execution_count": null,
   "id": "63e71644",
   "metadata": {
    "ExecuteTime": {
     "end_time": "2025-02-25T10:55:09.458789Z",
     "start_time": "2025-02-25T10:55:09.452929Z"
    },
    "tags": []
   },
   "outputs": [],
   "source": [
    "c_splitter = CharacterTextSplitter(\n",
    "    chunk_size=chunk_size,\n",
    "    chunk_overlap=chunk_overlap,\n",
    "    separator = ' '\n",
    ")\n",
    "c_splitter.split_text(text3)"
   ]
  },
  {
   "cell_type": "markdown",
   "id": "8b613ee6-6d34-4504-b00d-bb0dbf414cfe",
   "metadata": {},
   "source": [
    "Try your own examples!"
   ]
  },
  {
   "cell_type": "markdown",
   "id": "c1a4d0ed",
   "metadata": {},
   "source": [
    "## Recursive splitting details\n",
    "\n",
    "`RecursiveCharacterTextSplitter` is recommended for generic text. "
   ]
  },
  {
   "cell_type": "code",
   "execution_count": null,
   "id": "96926a42-92e6-4ad4-9946-908a075fb32d",
   "metadata": {
    "ExecuteTime": {
     "end_time": "2025-02-25T10:55:09.509512Z",
     "start_time": "2025-02-25T10:55:09.506714Z"
    },
    "tags": []
   },
   "outputs": [],
   "source": [
    "some_text = \"\"\"When writing documents, writers will use document structure to group content. \\\n",
    "This can convey to the reader, which idea's are related. For example, closely related ideas \\\n",
    "are in sentances. Similar ideas are in paragraphs. Paragraphs form a document. \\n\\n  \\\n",
    "Paragraphs are often delimited with a carriage return or two carriage returns. \\\n",
    "Carriage returns are the \"backslash n\" you see embedded in this string. \\\n",
    "Sentences have a period at the end, but also, have a space.\\\n",
    "and words are separated by space.\"\"\""
   ]
  },
  {
   "cell_type": "code",
   "execution_count": null,
   "id": "18706d73",
   "metadata": {
    "ExecuteTime": {
     "end_time": "2025-02-25T10:55:09.560936Z",
     "start_time": "2025-02-25T10:55:09.555416Z"
    },
    "tags": []
   },
   "outputs": [],
   "source": [
    "len(some_text)"
   ]
  },
  {
   "cell_type": "code",
   "execution_count": null,
   "id": "5083a172-ba0a-4d9f-b561-18f0d2e6d9ce",
   "metadata": {
    "ExecuteTime": {
     "end_time": "2025-02-25T10:55:09.610336Z",
     "start_time": "2025-02-25T10:55:09.606911Z"
    },
    "tags": []
   },
   "outputs": [],
   "source": [
    "c_splitter = CharacterTextSplitter(\n",
    "    chunk_size=450,\n",
    "    chunk_overlap=0,\n",
    "    separator = ' '\n",
    ")\n",
    "r_splitter = RecursiveCharacterTextSplitter(\n",
    "    chunk_size=450,\n",
    "    chunk_overlap=0, \n",
    "    separators=[\"\\n\\n\", \"\\n\", \" \", \"\"]\n",
    ")"
   ]
  },
  {
   "cell_type": "code",
   "execution_count": null,
   "id": "7f8aa4ed-5347-4819-b3c1-d15696832a65",
   "metadata": {
    "ExecuteTime": {
     "end_time": "2025-02-25T10:55:09.660418Z",
     "start_time": "2025-02-25T10:55:09.656347Z"
    },
    "tags": []
   },
   "outputs": [],
   "source": [
    "c_splitter.split_text(some_text)"
   ]
  },
  {
   "cell_type": "code",
   "execution_count": null,
   "id": "6af907f2-4110-4e40-a831-593f8592bd83",
   "metadata": {
    "ExecuteTime": {
     "end_time": "2025-02-25T10:55:09.713380Z",
     "start_time": "2025-02-25T10:55:09.708446Z"
    },
    "tags": []
   },
   "outputs": [],
   "source": [
    "r_splitter.split_text(some_text)"
   ]
  },
  {
   "cell_type": "markdown",
   "id": "3b3720ef-2a97-4e0f-a2da-660b274b2f00",
   "metadata": {
    "tags": []
   },
   "source": [
    "Let's reduce the chunk size a bit and add a period to our separators:"
   ]
  },
  {
   "cell_type": "code",
   "execution_count": null,
   "id": "1e5496ea-d34e-4ed9-8f68-9dadd86e8da7",
   "metadata": {
    "ExecuteTime": {
     "end_time": "2025-02-25T10:55:09.851431Z",
     "start_time": "2025-02-25T10:55:09.819556Z"
    },
    "tags": []
   },
   "outputs": [],
   "source": [
    "r_splitter = RecursiveCharacterTextSplitter(\n",
    "    chunk_size=150,\n",
    "    chunk_overlap=0,\n",
    "    separators=[\"\\n\\n\", \"\\n\", \"\\. \", \" \", \"\"]\n",
    ")\n",
    "r_splitter.split_text(some_text)"
   ]
  },
  {
   "cell_type": "code",
   "execution_count": null,
   "id": "31da7561",
   "metadata": {
    "ExecuteTime": {
     "end_time": "2025-02-25T10:55:09.929252Z",
     "start_time": "2025-02-25T10:55:09.917205Z"
    },
    "tags": []
   },
   "outputs": [],
   "source": [
    "r_splitter = RecursiveCharacterTextSplitter(\n",
    "    chunk_size=150,\n",
    "    chunk_overlap=0,\n",
    "    separators=[\"\\n\\n\", \"\\n\", \"(?<=\\. )\", \" \", \"\"]\n",
    ")\n",
    "r_splitter.split_text(some_text)"
   ]
  },
  {
   "cell_type": "code",
   "execution_count": null,
   "id": "a469e07d",
   "metadata": {
    "ExecuteTime": {
     "end_time": "2025-02-25T10:55:10.347425Z",
     "start_time": "2025-02-25T10:55:09.966302Z"
    },
    "tags": []
   },
   "outputs": [],
   "source": [
    "from langchain.document_loaders import PyPDFLoader\n",
    "loader = PyPDFLoader(\"../docs/cs229_lectures/MachineLearning-Lecture01.pdf\")\n",
    "pages = loader.load()"
   ]
  },
  {
   "cell_type": "code",
   "execution_count": null,
   "id": "bba6f05d",
   "metadata": {
    "ExecuteTime": {
     "end_time": "2025-02-25T10:55:10.357916Z",
     "start_time": "2025-02-25T10:55:10.355418Z"
    },
    "tags": []
   },
   "outputs": [],
   "source": [
    "from langchain.text_splitter import CharacterTextSplitter\n",
    "text_splitter = CharacterTextSplitter(\n",
    "    separator=\"\\n\",\n",
    "    chunk_size=1000,\n",
    "    chunk_overlap=150,\n",
    "    length_function=len\n",
    ")"
   ]
  },
  {
   "cell_type": "code",
   "execution_count": null,
   "id": "c752a663-896b-4a24-9ffb-7640642b7a3f",
   "metadata": {
    "ExecuteTime": {
     "end_time": "2025-02-25T10:55:10.403286Z",
     "start_time": "2025-02-25T10:55:10.398619Z"
    },
    "tags": []
   },
   "outputs": [],
   "source": [
    "docs = text_splitter.split_documents(pages)"
   ]
  },
  {
   "cell_type": "code",
   "execution_count": null,
   "id": "7474a52c",
   "metadata": {
    "ExecuteTime": {
     "end_time": "2025-02-25T10:55:10.457368Z",
     "start_time": "2025-02-25T10:55:10.451693Z"
    },
    "tags": []
   },
   "outputs": [],
   "source": [
    "len(docs)"
   ]
  },
  {
   "cell_type": "code",
   "execution_count": null,
   "id": "d16046b2",
   "metadata": {
    "ExecuteTime": {
     "end_time": "2025-02-25T10:55:10.510660Z",
     "start_time": "2025-02-25T10:55:10.506625Z"
    },
    "tags": []
   },
   "outputs": [],
   "source": [
    "len(pages)"
   ]
  },
  {
   "cell_type": "code",
   "execution_count": null,
   "id": "3a9e741c",
   "metadata": {
    "ExecuteTime": {
     "end_time": "2025-02-25T10:55:10.562752Z",
     "start_time": "2025-02-25T10:55:10.557093Z"
    },
    "tags": []
   },
   "outputs": [],
   "source": [
    "from langchain.document_loaders import NotionDirectoryLoader\n",
    "loader = NotionDirectoryLoader(\"../docs/Notion_DB\")\n",
    "notion_db = loader.load()"
   ]
  },
  {
   "cell_type": "code",
   "execution_count": null,
   "id": "d30861d0-4370-49c1-a6fc-a924f9a171ee",
   "metadata": {
    "ExecuteTime": {
     "end_time": "2025-02-25T10:55:10.611522Z",
     "start_time": "2025-02-25T10:55:10.603763Z"
    },
    "tags": []
   },
   "outputs": [],
   "source": [
    "docs = text_splitter.split_documents(notion_db)"
   ]
  },
  {
   "cell_type": "code",
   "execution_count": null,
   "id": "39a59ff8",
   "metadata": {
    "ExecuteTime": {
     "end_time": "2025-02-25T10:55:10.667582Z",
     "start_time": "2025-02-25T10:55:10.662348Z"
    },
    "tags": []
   },
   "outputs": [],
   "source": [
    "len(notion_db)"
   ]
  },
  {
   "cell_type": "code",
   "execution_count": null,
   "id": "73411cbd",
   "metadata": {
    "ExecuteTime": {
     "end_time": "2025-02-25T10:55:10.719574Z",
     "start_time": "2025-02-25T10:55:10.714723Z"
    },
    "tags": []
   },
   "outputs": [],
   "source": [
    "len(docs)"
   ]
  },
  {
   "cell_type": "markdown",
   "id": "68f720db",
   "metadata": {},
   "source": [
    "## Token splitting\n",
    "\n",
    "We can also split on token count explicity, if we want.\n",
    "\n",
    "This can be useful because LLMs often have context windows designated in tokens.\n",
    "\n",
    "Tokens are often ~4 characters."
   ]
  },
  {
   "cell_type": "code",
   "execution_count": null,
   "id": "da0bcc05",
   "metadata": {
    "ExecuteTime": {
     "end_time": "2025-02-25T10:55:10.769099Z",
     "start_time": "2025-02-25T10:55:10.765795Z"
    },
    "tags": []
   },
   "outputs": [],
   "source": [
    "from langchain.text_splitter import TokenTextSplitter"
   ]
  },
  {
   "cell_type": "code",
   "execution_count": null,
   "id": "0116b01b-2b0b-47a7-a107-bbc497029713",
   "metadata": {
    "ExecuteTime": {
     "end_time": "2025-02-25T10:55:11.090353Z",
     "start_time": "2025-02-25T10:55:10.816378Z"
    },
    "tags": []
   },
   "outputs": [],
   "source": [
    "text_splitter = TokenTextSplitter(chunk_size=1, chunk_overlap=0)"
   ]
  },
  {
   "cell_type": "code",
   "execution_count": null,
   "id": "07a95e78",
   "metadata": {
    "ExecuteTime": {
     "end_time": "2025-02-25T10:55:11.102741Z",
     "start_time": "2025-02-25T10:55:11.100352Z"
    },
    "tags": []
   },
   "outputs": [],
   "source": [
    "text1 = \"foo bar bazzyfoo\""
   ]
  },
  {
   "cell_type": "code",
   "execution_count": null,
   "id": "8eec0912",
   "metadata": {
    "ExecuteTime": {
     "end_time": "2025-02-25T10:55:11.149576Z",
     "start_time": "2025-02-25T10:55:11.143806Z"
    },
    "tags": []
   },
   "outputs": [],
   "source": [
    "text_splitter.split_text(text1)"
   ]
  },
  {
   "cell_type": "code",
   "execution_count": null,
   "id": "ffa29d43",
   "metadata": {
    "ExecuteTime": {
     "end_time": "2025-02-25T10:55:11.199572Z",
     "start_time": "2025-02-25T10:55:11.195669Z"
    },
    "tags": []
   },
   "outputs": [],
   "source": [
    "text_splitter = TokenTextSplitter(chunk_size=10, chunk_overlap=0)"
   ]
  },
  {
   "cell_type": "code",
   "execution_count": null,
   "id": "e53e203a",
   "metadata": {
    "ExecuteTime": {
     "end_time": "2025-02-25T10:55:11.330593Z",
     "start_time": "2025-02-25T10:55:11.243255Z"
    },
    "tags": []
   },
   "outputs": [],
   "source": [
    "docs = text_splitter.split_documents(pages)"
   ]
  },
  {
   "cell_type": "code",
   "execution_count": null,
   "id": "3b186c5f",
   "metadata": {
    "ExecuteTime": {
     "end_time": "2025-02-25T10:55:11.344309Z",
     "start_time": "2025-02-25T10:55:11.339897Z"
    },
    "tags": []
   },
   "outputs": [],
   "source": [
    "docs[0]"
   ]
  },
  {
   "cell_type": "code",
   "execution_count": null,
   "id": "917f7abc",
   "metadata": {
    "ExecuteTime": {
     "end_time": "2025-02-25T10:55:11.390640Z",
     "start_time": "2025-02-25T10:55:11.386305Z"
    },
    "tags": []
   },
   "outputs": [],
   "source": [
    "pages[0].metadata"
   ]
  },
  {
   "cell_type": "markdown",
   "id": "282d9bfa",
   "metadata": {},
   "source": [
    "## Context aware splitting\n",
    "\n",
    "Chunking aims to keep text with common context together.\n",
    "\n",
    "A text splitting often uses sentences or other delimiters to keep related text together but many documents (such as Markdown) have structure (headers) that can be explicitly used in splitting.\n",
    "\n",
    "We can use `MarkdownHeaderTextSplitter` to preserve header metadata in our chunks, as show below."
   ]
  },
  {
   "cell_type": "code",
   "execution_count": null,
   "id": "aa3b93d9",
   "metadata": {
    "ExecuteTime": {
     "end_time": "2025-02-25T10:55:11.439176Z",
     "start_time": "2025-02-25T10:55:11.436395Z"
    },
    "tags": []
   },
   "outputs": [],
   "source": [
    "from langchain.document_loaders import NotionDirectoryLoader\n",
    "from langchain.text_splitter import MarkdownHeaderTextSplitter"
   ]
  },
  {
   "cell_type": "code",
   "execution_count": null,
   "id": "d2c73a9c",
   "metadata": {
    "ExecuteTime": {
     "end_time": "2025-02-25T10:55:11.486005Z",
     "start_time": "2025-02-25T10:55:11.482849Z"
    },
    "tags": []
   },
   "outputs": [],
   "source": [
    "markdown_document = \"\"\"# Title\\n\\n \\\n",
    "## Chapter 1\\n\\n \\\n",
    "Hi this is Jim\\n\\n Hi this is Joe\\n\\n \\\n",
    "### Section \\n\\n \\\n",
    "Hi this is Lance \\n\\n \n",
    "## Chapter 2\\n\\n \\\n",
    "Hi this is Molly\"\"\""
   ]
  },
  {
   "cell_type": "code",
   "execution_count": null,
   "id": "eadb7740",
   "metadata": {
    "ExecuteTime": {
     "end_time": "2025-02-25T10:55:11.533023Z",
     "start_time": "2025-02-25T10:55:11.529956Z"
    },
    "tags": []
   },
   "outputs": [],
   "source": [
    "headers_to_split_on = [\n",
    "    (\"#\", \"Header 1\"),\n",
    "    (\"##\", \"Header 2\"),\n",
    "    (\"###\", \"Header 3\"),\n",
    "]"
   ]
  },
  {
   "cell_type": "code",
   "execution_count": null,
   "id": "a789eede",
   "metadata": {
    "ExecuteTime": {
     "end_time": "2025-02-25T10:55:11.578910Z",
     "start_time": "2025-02-25T10:55:11.576478Z"
    },
    "tags": []
   },
   "outputs": [],
   "source": [
    "markdown_splitter = MarkdownHeaderTextSplitter(\n",
    "    headers_to_split_on=headers_to_split_on\n",
    ")\n",
    "md_header_splits = markdown_splitter.split_text(markdown_document)"
   ]
  },
  {
   "cell_type": "code",
   "execution_count": null,
   "id": "27053c17",
   "metadata": {
    "ExecuteTime": {
     "end_time": "2025-02-25T10:55:11.626851Z",
     "start_time": "2025-02-25T10:55:11.623275Z"
    },
    "tags": []
   },
   "outputs": [],
   "source": [
    "md_header_splits[0]"
   ]
  },
  {
   "cell_type": "code",
   "execution_count": null,
   "id": "a5b6b903",
   "metadata": {
    "ExecuteTime": {
     "end_time": "2025-02-25T10:55:11.683107Z",
     "start_time": "2025-02-25T10:55:11.677171Z"
    },
    "tags": []
   },
   "outputs": [],
   "source": [
    "md_header_splits[1]"
   ]
  },
  {
   "cell_type": "markdown",
   "id": "8d0c6111",
   "metadata": {},
   "source": [
    "Try on a real Markdown file, like a Notion database."
   ]
  },
  {
   "cell_type": "code",
   "execution_count": null,
   "id": "b238b16f",
   "metadata": {
    "ExecuteTime": {
     "end_time": "2025-02-25T10:55:11.744927Z",
     "start_time": "2025-02-25T10:55:11.732268Z"
    },
    "tags": []
   },
   "outputs": [],
   "source": [
    "loader = NotionDirectoryLoader(\"../docs/Notion_DB\")\n",
    "docs = loader.load()\n",
    "txt = ' '.join([d.page_content for d in docs])"
   ]
  },
  {
   "cell_type": "code",
   "execution_count": null,
   "id": "9fdab1d4",
   "metadata": {
    "ExecuteTime": {
     "end_time": "2025-02-25T10:55:11.786152Z",
     "start_time": "2025-02-25T10:55:11.782287Z"
    },
    "tags": []
   },
   "outputs": [],
   "source": [
    "headers_to_split_on = [\n",
    "    (\"#\", \"Header 1\"),\n",
    "    (\"##\", \"Header 2\"),\n",
    "]\n",
    "markdown_splitter = MarkdownHeaderTextSplitter(\n",
    "    headers_to_split_on=headers_to_split_on\n",
    ")"
   ]
  },
  {
   "cell_type": "code",
   "execution_count": null,
   "id": "e722c39c",
   "metadata": {
    "ExecuteTime": {
     "end_time": "2025-02-25T10:55:11.839174Z",
     "start_time": "2025-02-25T10:55:11.829612Z"
    },
    "tags": []
   },
   "outputs": [],
   "source": [
    "md_header_splits = markdown_splitter.split_text(txt)"
   ]
  },
  {
   "cell_type": "code",
   "execution_count": null,
   "id": "3f2b6df5",
   "metadata": {
    "ExecuteTime": {
     "end_time": "2025-02-25T10:55:11.888751Z",
     "start_time": "2025-02-25T10:55:11.885154Z"
    },
    "tags": []
   },
   "outputs": [],
   "source": [
    "md_header_splits[0]"
   ]
  },
  {
   "cell_type": "code",
   "execution_count": null,
   "id": "9f97c85a-78e8-4c63-bd45-ce585e26b63a",
   "metadata": {
    "ExecuteTime": {
     "end_time": "2025-02-25T10:55:11.936811Z",
     "start_time": "2025-02-25T10:55:11.934675Z"
    }
   },
   "outputs": [],
   "source": []
  }
 ],
 "metadata": {
  "kernelspec": {
   "display_name": "Python 3 (ipykernel)",
   "language": "python",
   "name": "python3"
  },
  "language_info": {
   "codemirror_mode": {
    "name": "ipython",
    "version": 3
   },
   "file_extension": ".py",
   "mimetype": "text/x-python",
   "name": "python",
   "nbconvert_exporter": "python",
   "pygments_lexer": "ipython3",
   "version": "3.12.3"
  }
 },
 "nbformat": 4,
 "nbformat_minor": 5
}
